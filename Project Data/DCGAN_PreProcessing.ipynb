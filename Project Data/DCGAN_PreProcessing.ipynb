{
 "cells": [
  {
   "cell_type": "markdown",
   "metadata": {},
   "source": [
    "# Data Pre-Processing\n",
    "\n",
    "In this file, the data preparation phase is covered. Data pre-processing is performed on two datasets, Celeb-A Faces Dataset and Flowers Dataset. Pre-processing is in the form of Image Reshaping and Data Splitting.\n",
    "\n",
    "For Celeb-A Faces Dataset, 80-20 split has been performed for acquiring training and validation samples and image reisze of 108x108 size is performed.\n",
    "\n",
    "For Flowers Dataset, 70-30 split has been performed for acquiring training and validation samples and image reisze of 108x108 size is performed.\n",
    "\n",
    "It is noted that there is no pre-processing performed at this stage on the third dataset, i.e. the Pokemon Dataset because the images are originally sized at the desired requirements."
   ]
  },
  {
   "cell_type": "code",
   "execution_count": 1,
   "metadata": {},
   "outputs": [],
   "source": [
    "# Importing required libraries.\n",
    "import os\n",
    "from PIL import Image\n",
    "import splitfolders as sf"
   ]
  },
  {
   "cell_type": "code",
   "execution_count": 2,
   "metadata": {},
   "outputs": [],
   "source": [
    "# Providing path for the Celeb-A Faces dataset and saving the processed data.\n",
    "data_dir = './data/celeba/main/'\n",
    "save_train = './data/celeba/resized_celeba/train/data/'\n",
    "save_test = './data/celeba/resized_celeba/val/data/'\n",
    "\n",
    "image_size = 64\n",
    "crop_size = 108"
   ]
  },
  {
   "cell_type": "code",
   "execution_count": 3,
   "metadata": {},
   "outputs": [
    {
     "name": "stderr",
     "output_type": "stream",
     "text": [
      "Copying files: 202599 files [05:18, 636.72 files/s]\n"
     ]
    }
   ],
   "source": [
    "# Split with a ratio of 70-30.\n",
    "sf.ratio(data_dir, output=\"./data/celeba/output\", seed=1234, ratio=(.7, .3), group_prefix=None) # default values"
   ]
  },
  {
   "cell_type": "code",
   "execution_count": 6,
   "metadata": {},
   "outputs": [],
   "source": [
    "celeba_train = './data/celeba/output/train/data/'\n",
    "celeba_test = './data/celeba/output/val/data/'"
   ]
  },
  {
   "cell_type": "code",
   "execution_count": 7,
   "metadata": {},
   "outputs": [],
   "source": [
    "if not os.path.isdir(save_train):\n",
    "    os.mkdir(save_train)\n",
    "\n",
    "img_list = os.listdir(celeba_train)"
   ]
  },
  {
   "cell_type": "code",
   "execution_count": 8,
   "metadata": {},
   "outputs": [
    {
     "name": "stdout",
     "output_type": "stream",
     "text": [
      "Resizing 0 images...\n",
      "Resizing 1000 images...\n",
      "Resizing 2000 images...\n",
      "Resizing 3000 images...\n",
      "Resizing 4000 images...\n",
      "Resizing 5000 images...\n",
      "Resizing 6000 images...\n",
      "Resizing 7000 images...\n",
      "Resizing 8000 images...\n",
      "Resizing 9000 images...\n",
      "Resizing 10000 images...\n",
      "Resizing 11000 images...\n",
      "Resizing 12000 images...\n",
      "Resizing 13000 images...\n",
      "Resizing 14000 images...\n",
      "Resizing 15000 images...\n",
      "Resizing 16000 images...\n",
      "Resizing 17000 images...\n",
      "Resizing 18000 images...\n",
      "Resizing 19000 images...\n",
      "Resizing 20000 images...\n",
      "Resizing 21000 images...\n",
      "Resizing 22000 images...\n",
      "Resizing 23000 images...\n",
      "Resizing 24000 images...\n",
      "Resizing 25000 images...\n",
      "Resizing 26000 images...\n",
      "Resizing 27000 images...\n",
      "Resizing 28000 images...\n",
      "Resizing 29000 images...\n",
      "Resizing 30000 images...\n",
      "Resizing 31000 images...\n",
      "Resizing 32000 images...\n",
      "Resizing 33000 images...\n",
      "Resizing 34000 images...\n",
      "Resizing 35000 images...\n",
      "Resizing 36000 images...\n",
      "Resizing 37000 images...\n",
      "Resizing 38000 images...\n",
      "Resizing 39000 images...\n",
      "Resizing 40000 images...\n",
      "Resizing 41000 images...\n",
      "Resizing 42000 images...\n",
      "Resizing 43000 images...\n",
      "Resizing 44000 images...\n",
      "Resizing 45000 images...\n",
      "Resizing 46000 images...\n",
      "Resizing 47000 images...\n",
      "Resizing 48000 images...\n",
      "Resizing 49000 images...\n",
      "Resizing 50000 images...\n",
      "Resizing 51000 images...\n",
      "Resizing 52000 images...\n",
      "Resizing 53000 images...\n",
      "Resizing 54000 images...\n",
      "Resizing 55000 images...\n",
      "Resizing 56000 images...\n",
      "Resizing 57000 images...\n",
      "Resizing 58000 images...\n",
      "Resizing 59000 images...\n",
      "Resizing 60000 images...\n",
      "Resizing 61000 images...\n",
      "Resizing 62000 images...\n",
      "Resizing 63000 images...\n",
      "Resizing 64000 images...\n",
      "Resizing 65000 images...\n",
      "Resizing 66000 images...\n",
      "Resizing 67000 images...\n",
      "Resizing 68000 images...\n",
      "Resizing 69000 images...\n",
      "Resizing 70000 images...\n",
      "Resizing 71000 images...\n",
      "Resizing 72000 images...\n",
      "Resizing 73000 images...\n",
      "Resizing 74000 images...\n",
      "Resizing 75000 images...\n",
      "Resizing 76000 images...\n",
      "Resizing 77000 images...\n",
      "Resizing 78000 images...\n",
      "Resizing 79000 images...\n",
      "Resizing 80000 images...\n",
      "Resizing 81000 images...\n",
      "Resizing 82000 images...\n",
      "Resizing 83000 images...\n",
      "Resizing 84000 images...\n",
      "Resizing 85000 images...\n",
      "Resizing 86000 images...\n",
      "Resizing 87000 images...\n",
      "Resizing 88000 images...\n",
      "Resizing 89000 images...\n",
      "Resizing 90000 images...\n",
      "Resizing 91000 images...\n",
      "Resizing 92000 images...\n",
      "Resizing 93000 images...\n",
      "Resizing 94000 images...\n",
      "Resizing 95000 images...\n",
      "Resizing 96000 images...\n",
      "Resizing 97000 images...\n",
      "Resizing 98000 images...\n",
      "Resizing 99000 images...\n"
     ]
    }
   ],
   "source": [
    "# Code for resizing the Celeb-A dataset training images \n",
    "for i in range(100000):\n",
    "    img = Image.open(celeba_train + img_list[i])\n",
    "    c_x = (img.size[0] - crop_size) // 2\n",
    "    c_y = (img.size[1] - crop_size) // 2\n",
    "    img = img.crop([c_x, c_y, c_x + crop_size, c_y + crop_size])\n",
    "    img = img.resize((image_size, image_size), Image.BILINEAR)\n",
    "    img.save(save_train + img_list[i], 'JPEG')\n",
    "\n",
    "    if i % 1000 == 0:\n",
    "        print('Resizing %d images...' % i)"
   ]
  },
  {
   "cell_type": "code",
   "execution_count": 9,
   "metadata": {},
   "outputs": [],
   "source": [
    "if not os.path.isdir(save_test):\n",
    "    os.mkdir(save_test)\n",
    "\n",
    "img_list = os.listdir(celeba_test)"
   ]
  },
  {
   "cell_type": "code",
   "execution_count": 10,
   "metadata": {},
   "outputs": [
    {
     "name": "stdout",
     "output_type": "stream",
     "text": [
      "Resizing 0 images...\n",
      "Resizing 1000 images...\n",
      "Resizing 2000 images...\n",
      "Resizing 3000 images...\n",
      "Resizing 4000 images...\n",
      "Resizing 5000 images...\n",
      "Resizing 6000 images...\n",
      "Resizing 7000 images...\n",
      "Resizing 8000 images...\n",
      "Resizing 9000 images...\n",
      "Resizing 10000 images...\n",
      "Resizing 11000 images...\n",
      "Resizing 12000 images...\n",
      "Resizing 13000 images...\n",
      "Resizing 14000 images...\n",
      "Resizing 15000 images...\n",
      "Resizing 16000 images...\n",
      "Resizing 17000 images...\n",
      "Resizing 18000 images...\n",
      "Resizing 19000 images...\n",
      "Resizing 20000 images...\n",
      "Resizing 21000 images...\n",
      "Resizing 22000 images...\n",
      "Resizing 23000 images...\n",
      "Resizing 24000 images...\n",
      "Resizing 25000 images...\n",
      "Resizing 26000 images...\n",
      "Resizing 27000 images...\n",
      "Resizing 28000 images...\n",
      "Resizing 29000 images...\n",
      "Resizing 30000 images...\n",
      "Resizing 31000 images...\n",
      "Resizing 32000 images...\n",
      "Resizing 33000 images...\n",
      "Resizing 34000 images...\n",
      "Resizing 35000 images...\n",
      "Resizing 36000 images...\n",
      "Resizing 37000 images...\n",
      "Resizing 38000 images...\n",
      "Resizing 39000 images...\n",
      "Resizing 40000 images...\n",
      "Resizing 41000 images...\n",
      "Resizing 42000 images...\n",
      "Resizing 43000 images...\n",
      "Resizing 44000 images...\n",
      "Resizing 45000 images...\n",
      "Resizing 46000 images...\n",
      "Resizing 47000 images...\n",
      "Resizing 48000 images...\n",
      "Resizing 49000 images...\n",
      "Resizing 50000 images...\n",
      "Resizing 51000 images...\n",
      "Resizing 52000 images...\n",
      "Resizing 53000 images...\n",
      "Resizing 54000 images...\n",
      "Resizing 55000 images...\n",
      "Resizing 56000 images...\n",
      "Resizing 57000 images...\n",
      "Resizing 58000 images...\n",
      "Resizing 59000 images...\n"
     ]
    }
   ],
   "source": [
    "# Code for resizing the Celeb-A dataset testing images\n",
    "for i in range(60000):\n",
    "    img = Image.open(celeba_test + img_list[i])\n",
    "    c_x = (img.size[0] - crop_size) // 2\n",
    "    c_y = (img.size[1] - crop_size) // 2\n",
    "    img = img.crop([c_x, c_y, c_x + crop_size, c_y + crop_size])\n",
    "    img = img.resize((image_size, image_size), Image.BILINEAR)\n",
    "    img.save(save_test + img_list[i], 'JPEG')\n",
    "\n",
    "    if i % 1000 == 0:\n",
    "        print('Resizing %d images...' % i)"
   ]
  },
  {
   "cell_type": "code",
   "execution_count": 11,
   "metadata": {},
   "outputs": [],
   "source": [
    "# Providing path for the Flowers dataset and saving the processed data.\n",
    "flowers_data_dir = './data/flowers/main/'\n",
    "flowers_save_train = './data/flowers/resized_flowers/train/data/'\n",
    "flowers_save_test = './data/flowers/resized_flowers/val/data/'\n",
    "\n",
    "image_size = 64\n",
    "crop_size = 108"
   ]
  },
  {
   "cell_type": "code",
   "execution_count": 12,
   "metadata": {},
   "outputs": [
    {
     "name": "stderr",
     "output_type": "stream",
     "text": [
      "Copying files: 8189 files [00:17, 478.96 files/s]\n"
     ]
    }
   ],
   "source": [
    "# Split with a ratio of 80-20.\n",
    "sf.ratio(flowers_data_dir, output=\"./data/flowers/output\", seed=1234, ratio=(.8, .2), group_prefix=None) # default values"
   ]
  },
  {
   "cell_type": "code",
   "execution_count": 13,
   "metadata": {},
   "outputs": [],
   "source": [
    "train_dir = './data/flowers/output/train/jpg/'\n",
    "test_dir = './data/flowers/output/val/jpg/'"
   ]
  },
  {
   "cell_type": "code",
   "execution_count": 14,
   "metadata": {},
   "outputs": [],
   "source": [
    "if not os.path.isdir(flowers_save_train):\n",
    "    os.mkdir(flowers_save_train)\n",
    "\n",
    "img_list = os.listdir(train_dir)"
   ]
  },
  {
   "cell_type": "code",
   "execution_count": 15,
   "metadata": {},
   "outputs": [
    {
     "name": "stdout",
     "output_type": "stream",
     "text": [
      "Resizing 0 images...\n",
      "Resizing 1000 images...\n",
      "Resizing 2000 images...\n",
      "Resizing 3000 images...\n",
      "Resizing 4000 images...\n",
      "Resizing 5000 images...\n",
      "Resizing 6000 images...\n",
      "Resizing 7000 images...\n"
     ]
    }
   ],
   "source": [
    "# Code for resizing the Flowers dataset training images\n",
    "for i in range(7500):\n",
    "    img = Image.open(train_dir + img_list[i])\n",
    "    c_x = (img.size[0] - crop_size) // 2\n",
    "    c_y = (img.size[1] - crop_size) // 2\n",
    "    img = img.crop([c_x, c_y, c_x + crop_size, c_y + crop_size])\n",
    "    img = img.resize((image_size, image_size), Image.BILINEAR)\n",
    "    img.save(flowers_save_train + img_list[i], 'JPEG')\n",
    "\n",
    "    if i % 1000 == 0:\n",
    "        print('Resizing %d images...' % i)"
   ]
  },
  {
   "cell_type": "code",
   "execution_count": 16,
   "metadata": {},
   "outputs": [],
   "source": [
    "if not os.path.isdir(flowers_save_test):\n",
    "    os.mkdir(flowers_save_test)\n",
    "\n",
    "img_list = os.listdir(test_dir)"
   ]
  },
  {
   "cell_type": "code",
   "execution_count": 17,
   "metadata": {},
   "outputs": [
    {
     "name": "stdout",
     "output_type": "stream",
     "text": [
      "Resizing 0 images...\n",
      "Resizing 1000 images...\n",
      "Resizing 2000 images...\n"
     ]
    }
   ],
   "source": [
    "# Code for resizing the Flowers dataset testing images\n",
    "for i in range(2900):\n",
    "    img = Image.open(test_dir + img_list[i])\n",
    "    c_x = (img.size[0] - crop_size) // 2\n",
    "    c_y = (img.size[1] - crop_size) // 2\n",
    "    img = img.crop([c_x, c_y, c_x + crop_size, c_y + crop_size])\n",
    "    img = img.resize((image_size, image_size), Image.BILINEAR)\n",
    "    img.save(flowers_save_test + img_list[i], 'JPEG')\n",
    "\n",
    "    if i % 1000 == 0:\n",
    "        print('Resizing %d images...' % i)"
   ]
  }
 ],
 "metadata": {
  "kernelspec": {
   "display_name": "Python 3",
   "language": "python",
   "name": "python3"
  },
  "language_info": {
   "codemirror_mode": {
    "name": "ipython",
    "version": 3
   },
   "file_extension": ".py",
   "mimetype": "text/x-python",
   "name": "python",
   "nbconvert_exporter": "python",
   "pygments_lexer": "ipython3",
   "version": "3.7.7"
  }
 },
 "nbformat": 4,
 "nbformat_minor": 4
}
